{
 "cells": [
  {
   "cell_type": "code",
   "execution_count": 1,
   "id": "c2882659",
   "metadata": {},
   "outputs": [],
   "source": [
    "import pandas as pd\n",
    "import numpy as np\n",
    "from pathlib import Path"
   ]
  },
  {
   "cell_type": "markdown",
   "id": "b2f408ea",
   "metadata": {},
   "source": [
    "### load & inspect"
   ]
  },
  {
   "cell_type": "code",
   "execution_count": 2,
   "id": "b1576aa4",
   "metadata": {},
   "outputs": [],
   "source": [
    "users = pd.read_csv(\"users.csv\")\n",
    "campaigns = pd.read_csv(\"campaigns.csv\")\n",
    "usage = pd.read_csv(\"usage_metrics.csv\")"
   ]
  },
  {
   "cell_type": "code",
   "execution_count": 3,
   "id": "628303fc",
   "metadata": {
    "scrolled": false
   },
   "outputs": [
    {
     "name": "stdout",
     "output_type": "stream",
     "text": [
      "Users: (250, 5)\n",
      "Campaigns: (430, 7)\n",
      "Usage metrics: (2031, 6)\n",
      "\n",
      "--- USERS ---\n"
     ]
    },
    {
     "data": {
      "text/html": [
       "<div>\n",
       "<style scoped>\n",
       "    .dataframe tbody tr th:only-of-type {\n",
       "        vertical-align: middle;\n",
       "    }\n",
       "\n",
       "    .dataframe tbody tr th {\n",
       "        vertical-align: top;\n",
       "    }\n",
       "\n",
       "    .dataframe thead th {\n",
       "        text-align: right;\n",
       "    }\n",
       "</style>\n",
       "<table border=\"1\" class=\"dataframe\">\n",
       "  <thead>\n",
       "    <tr style=\"text-align: right;\">\n",
       "      <th></th>\n",
       "      <th>user_id</th>\n",
       "      <th>signup_date</th>\n",
       "      <th>country</th>\n",
       "      <th>device</th>\n",
       "      <th>referral_code</th>\n",
       "    </tr>\n",
       "  </thead>\n",
       "  <tbody>\n",
       "    <tr>\n",
       "      <th>0</th>\n",
       "      <td>U0001</td>\n",
       "      <td>2025-09-12</td>\n",
       "      <td>Germany</td>\n",
       "      <td>iOS</td>\n",
       "      <td>NaN</td>\n",
       "    </tr>\n",
       "    <tr>\n",
       "      <th>1</th>\n",
       "      <td>U0002</td>\n",
       "      <td>2025-08-23</td>\n",
       "      <td>Germany</td>\n",
       "      <td>iOS</td>\n",
       "      <td>No</td>\n",
       "    </tr>\n",
       "    <tr>\n",
       "      <th>2</th>\n",
       "      <td>U0003</td>\n",
       "      <td>2025-09-15</td>\n",
       "      <td>USA</td>\n",
       "      <td>Android</td>\n",
       "      <td>No</td>\n",
       "    </tr>\n",
       "    <tr>\n",
       "      <th>3</th>\n",
       "      <td>U0004</td>\n",
       "      <td>2025-08-12</td>\n",
       "      <td>India</td>\n",
       "      <td>Android</td>\n",
       "      <td>No</td>\n",
       "    </tr>\n",
       "    <tr>\n",
       "      <th>4</th>\n",
       "      <td>U0005</td>\n",
       "      <td>2025-09-14</td>\n",
       "      <td>Germany</td>\n",
       "      <td>iOS</td>\n",
       "      <td>NaN</td>\n",
       "    </tr>\n",
       "  </tbody>\n",
       "</table>\n",
       "</div>"
      ],
      "text/plain": [
       "  user_id signup_date  country   device referral_code\n",
       "0   U0001  2025-09-12  Germany      iOS           NaN\n",
       "1   U0002  2025-08-23  Germany      iOS            No\n",
       "2   U0003  2025-09-15      USA  Android            No\n",
       "3   U0004  2025-08-12    India  Android            No\n",
       "4   U0005  2025-09-14  Germany      iOS           NaN"
      ]
     },
     "metadata": {},
     "output_type": "display_data"
    },
    {
     "name": "stdout",
     "output_type": "stream",
     "text": [
      "\n",
      "--- CAMPAIGNS ---\n"
     ]
    },
    {
     "data": {
      "text/html": [
       "<div>\n",
       "<style scoped>\n",
       "    .dataframe tbody tr th:only-of-type {\n",
       "        vertical-align: middle;\n",
       "    }\n",
       "\n",
       "    .dataframe tbody tr th {\n",
       "        vertical-align: top;\n",
       "    }\n",
       "\n",
       "    .dataframe thead th {\n",
       "        text-align: right;\n",
       "    }\n",
       "</style>\n",
       "<table border=\"1\" class=\"dataframe\">\n",
       "  <thead>\n",
       "    <tr style=\"text-align: right;\">\n",
       "      <th></th>\n",
       "      <th>campaign_id</th>\n",
       "      <th>user_id</th>\n",
       "      <th>experience_type</th>\n",
       "      <th>status</th>\n",
       "      <th>credits_used</th>\n",
       "      <th>created_date</th>\n",
       "      <th>published_date</th>\n",
       "    </tr>\n",
       "  </thead>\n",
       "  <tbody>\n",
       "    <tr>\n",
       "      <th>0</th>\n",
       "      <td>C00001</td>\n",
       "      <td>U0002</td>\n",
       "      <td>NaN</td>\n",
       "      <td>draft</td>\n",
       "      <td>NaN</td>\n",
       "      <td>2025-09-17</td>\n",
       "      <td>NaN</td>\n",
       "    </tr>\n",
       "    <tr>\n",
       "      <th>1</th>\n",
       "      <td>C00002</td>\n",
       "      <td>U0002</td>\n",
       "      <td>NaN</td>\n",
       "      <td>published</td>\n",
       "      <td>4.0</td>\n",
       "      <td>2025-09-07</td>\n",
       "      <td>2025-09-12</td>\n",
       "    </tr>\n",
       "    <tr>\n",
       "      <th>2</th>\n",
       "      <td>C00003</td>\n",
       "      <td>U0003</td>\n",
       "      <td>Alpha</td>\n",
       "      <td>published</td>\n",
       "      <td>5.0</td>\n",
       "      <td>2025-10-02</td>\n",
       "      <td>2025-10-04</td>\n",
       "    </tr>\n",
       "    <tr>\n",
       "      <th>3</th>\n",
       "      <td>C00004</td>\n",
       "      <td>U0004</td>\n",
       "      <td>Spatial Interactive</td>\n",
       "      <td>published</td>\n",
       "      <td>1.0</td>\n",
       "      <td>2025-08-31</td>\n",
       "      <td>2025-09-17</td>\n",
       "    </tr>\n",
       "    <tr>\n",
       "      <th>4</th>\n",
       "      <td>C00005</td>\n",
       "      <td>U0004</td>\n",
       "      <td>Prism Interactive</td>\n",
       "      <td>published</td>\n",
       "      <td>1.0</td>\n",
       "      <td>2025-08-26</td>\n",
       "      <td>2025-08-28</td>\n",
       "    </tr>\n",
       "  </tbody>\n",
       "</table>\n",
       "</div>"
      ],
      "text/plain": [
       "  campaign_id user_id      experience_type     status  credits_used  \\\n",
       "0      C00001   U0002                  NaN      draft           NaN   \n",
       "1      C00002   U0002                  NaN  published           4.0   \n",
       "2      C00003   U0003                Alpha  published           5.0   \n",
       "3      C00004   U0004  Spatial Interactive  published           1.0   \n",
       "4      C00005   U0004    Prism Interactive  published           1.0   \n",
       "\n",
       "  created_date published_date  \n",
       "0   2025-09-17            NaN  \n",
       "1   2025-09-07     2025-09-12  \n",
       "2   2025-10-02     2025-10-04  \n",
       "3   2025-08-31     2025-09-17  \n",
       "4   2025-08-26     2025-08-28  "
      ]
     },
     "metadata": {},
     "output_type": "display_data"
    },
    {
     "name": "stdout",
     "output_type": "stream",
     "text": [
      "\n",
      "--- USAGE METRICS ---\n"
     ]
    },
    {
     "data": {
      "text/html": [
       "<div>\n",
       "<style scoped>\n",
       "    .dataframe tbody tr th:only-of-type {\n",
       "        vertical-align: middle;\n",
       "    }\n",
       "\n",
       "    .dataframe tbody tr th {\n",
       "        vertical-align: top;\n",
       "    }\n",
       "\n",
       "    .dataframe thead th {\n",
       "        text-align: right;\n",
       "    }\n",
       "</style>\n",
       "<table border=\"1\" class=\"dataframe\">\n",
       "  <thead>\n",
       "    <tr style=\"text-align: right;\">\n",
       "      <th></th>\n",
       "      <th>user_id</th>\n",
       "      <th>week_start_date</th>\n",
       "      <th>sessions</th>\n",
       "      <th>avg_session_time</th>\n",
       "      <th>engagement_score</th>\n",
       "      <th>last_active_date</th>\n",
       "    </tr>\n",
       "  </thead>\n",
       "  <tbody>\n",
       "    <tr>\n",
       "      <th>0</th>\n",
       "      <td>U0001</td>\n",
       "      <td>2025-09-08</td>\n",
       "      <td>6.0</td>\n",
       "      <td>11.62</td>\n",
       "      <td>69.72</td>\n",
       "      <td>2025-09-12</td>\n",
       "    </tr>\n",
       "    <tr>\n",
       "      <th>1</th>\n",
       "      <td>U0001</td>\n",
       "      <td>2025-09-15</td>\n",
       "      <td>5.0</td>\n",
       "      <td>4.88</td>\n",
       "      <td>24.40</td>\n",
       "      <td>2025-09-21</td>\n",
       "    </tr>\n",
       "    <tr>\n",
       "      <th>2</th>\n",
       "      <td>U0001</td>\n",
       "      <td>2025-09-22</td>\n",
       "      <td>3.0</td>\n",
       "      <td>6.63</td>\n",
       "      <td>19.89</td>\n",
       "      <td>2025-09-24</td>\n",
       "    </tr>\n",
       "    <tr>\n",
       "      <th>3</th>\n",
       "      <td>U0001</td>\n",
       "      <td>2025-09-29</td>\n",
       "      <td>3.0</td>\n",
       "      <td>8.51</td>\n",
       "      <td>25.53</td>\n",
       "      <td>2025-10-04</td>\n",
       "    </tr>\n",
       "    <tr>\n",
       "      <th>4</th>\n",
       "      <td>U0001</td>\n",
       "      <td>2025-10-06</td>\n",
       "      <td>2.0</td>\n",
       "      <td>8.39</td>\n",
       "      <td>16.78</td>\n",
       "      <td>2025-10-09</td>\n",
       "    </tr>\n",
       "  </tbody>\n",
       "</table>\n",
       "</div>"
      ],
      "text/plain": [
       "  user_id week_start_date  sessions  avg_session_time  engagement_score  \\\n",
       "0   U0001      2025-09-08       6.0             11.62             69.72   \n",
       "1   U0001      2025-09-15       5.0              4.88             24.40   \n",
       "2   U0001      2025-09-22       3.0              6.63             19.89   \n",
       "3   U0001      2025-09-29       3.0              8.51             25.53   \n",
       "4   U0001      2025-10-06       2.0              8.39             16.78   \n",
       "\n",
       "  last_active_date  \n",
       "0       2025-09-12  \n",
       "1       2025-09-21  \n",
       "2       2025-09-24  \n",
       "3       2025-10-04  \n",
       "4       2025-10-09  "
      ]
     },
     "metadata": {},
     "output_type": "display_data"
    }
   ],
   "source": [
    "# Check the basic structure\n",
    "print(\"Users:\", users.shape)\n",
    "print(\"Campaigns:\", campaigns.shape)\n",
    "print(\"Usage metrics:\", usage.shape)\n",
    "\n",
    "# Preview top 5 rows of each\n",
    "print(\"\\n--- USERS ---\")\n",
    "display(users.head())\n",
    "\n",
    "print(\"\\n--- CAMPAIGNS ---\")\n",
    "display(campaigns.head())\n",
    "\n",
    "print(\"\\n--- USAGE METRICS ---\")\n",
    "display(usage.head())"
   ]
  },
  {
   "cell_type": "code",
   "execution_count": 4,
   "id": "b6f7d688",
   "metadata": {},
   "outputs": [
    {
     "name": "stdout",
     "output_type": "stream",
     "text": [
      "=== USERS ===\n",
      "<class 'pandas.core.frame.DataFrame'>\n",
      "RangeIndex: 250 entries, 0 to 249\n",
      "Data columns (total 5 columns):\n",
      " #   Column         Non-Null Count  Dtype \n",
      "---  ------         --------------  ----- \n",
      " 0   user_id        250 non-null    object\n",
      " 1   signup_date    250 non-null    object\n",
      " 2   country        244 non-null    object\n",
      " 3   device         241 non-null    object\n",
      " 4   referral_code  232 non-null    object\n",
      "dtypes: object(5)\n",
      "memory usage: 9.9+ KB\n",
      "None\n",
      "\n",
      "Missing values:\n",
      " user_id           0\n",
      "signup_date       0\n",
      "country           6\n",
      "device            9\n",
      "referral_code    18\n",
      "dtype: int64\n",
      "\n",
      "=== CAMPAIGNS ===\n",
      "<class 'pandas.core.frame.DataFrame'>\n",
      "RangeIndex: 430 entries, 0 to 429\n",
      "Data columns (total 7 columns):\n",
      " #   Column           Non-Null Count  Dtype  \n",
      "---  ------           --------------  -----  \n",
      " 0   campaign_id      430 non-null    object \n",
      " 1   user_id          430 non-null    object \n",
      " 2   experience_type  415 non-null    object \n",
      " 3   status           430 non-null    object \n",
      " 4   credits_used     177 non-null    float64\n",
      " 5   created_date     430 non-null    object \n",
      " 6   published_date   187 non-null    object \n",
      "dtypes: float64(1), object(6)\n",
      "memory usage: 23.6+ KB\n",
      "None\n",
      "\n",
      "Missing values:\n",
      " campaign_id          0\n",
      "user_id              0\n",
      "experience_type     15\n",
      "status               0\n",
      "credits_used       253\n",
      "created_date         0\n",
      "published_date     243\n",
      "dtype: int64\n",
      "\n",
      "=== USAGE METRICS ===\n",
      "<class 'pandas.core.frame.DataFrame'>\n",
      "RangeIndex: 2031 entries, 0 to 2030\n",
      "Data columns (total 6 columns):\n",
      " #   Column            Non-Null Count  Dtype  \n",
      "---  ------            --------------  -----  \n",
      " 0   user_id           2031 non-null   object \n",
      " 1   week_start_date   2031 non-null   object \n",
      " 2   sessions          1963 non-null   float64\n",
      " 3   avg_session_time  1951 non-null   float64\n",
      " 4   engagement_score  1850 non-null   float64\n",
      " 5   last_active_date  1671 non-null   object \n",
      "dtypes: float64(3), object(3)\n",
      "memory usage: 95.3+ KB\n",
      "None\n",
      "\n",
      "Missing values:\n",
      " user_id               0\n",
      "week_start_date       0\n",
      "sessions             68\n",
      "avg_session_time     80\n",
      "engagement_score    181\n",
      "last_active_date    360\n",
      "dtype: int64\n"
     ]
    }
   ],
   "source": [
    "# Check datatypes and missing values for each dataset\n",
    "\n",
    "print(\"=== USERS ===\")\n",
    "print(users.info())\n",
    "print(\"\\nMissing values:\\n\", users.isna().sum())\n",
    "\n",
    "print(\"\\n=== CAMPAIGNS ===\")\n",
    "print(campaigns.info())\n",
    "print(\"\\nMissing values:\\n\", campaigns.isna().sum())\n",
    "\n",
    "print(\"\\n=== USAGE METRICS ===\")\n",
    "print(usage.info())\n",
    "print(\"\\nMissing values:\\n\", usage.isna().sum())\n"
   ]
  },
  {
   "cell_type": "markdown",
   "id": "c0613b62",
   "metadata": {},
   "source": [
    "### Clean & Convert Data"
   ]
  },
  {
   "cell_type": "code",
   "execution_count": 5,
   "id": "b23c655b",
   "metadata": {},
   "outputs": [],
   "source": [
    "# 1️⃣ Convert date columns to datetime format\n",
    "users['signup_date'] = pd.to_datetime(users['signup_date'])\n",
    "campaigns['created_date'] = pd.to_datetime(campaigns['created_date'])\n",
    "campaigns['published_date'] = pd.to_datetime(campaigns['published_date'])\n",
    "usage['week_start_date'] = pd.to_datetime(usage['week_start_date'])\n",
    "usage['last_active_date'] = pd.to_datetime(usage['last_active_date'])"
   ]
  },
  {
   "cell_type": "code",
   "execution_count": 6,
   "id": "4aefa5ef",
   "metadata": {},
   "outputs": [],
   "source": [
    "# 2️⃣ Fill missing categorical values with \"Unknown\"\n",
    "users['country'] = users['country'].fillna('Unknown')\n",
    "users['device'] = users['device'].fillna('Unknown')\n",
    "users['referral_code'] = users['referral_code'].fillna('No')\n",
    "campaigns['experience_type'] = campaigns['experience_type'].fillna('Unknown')\n"
   ]
  },
  {
   "cell_type": "code",
   "execution_count": 8,
   "id": "5aabfb90",
   "metadata": {},
   "outputs": [],
   "source": [
    "# 3️⃣ Replace missing numeric values with 0 (e.g., credits_used)\n",
    "campaigns['credits_used'] = campaigns['credits_used'].fillna(0)\n"
   ]
  },
  {
   "cell_type": "code",
   "execution_count": 9,
   "id": "7512791b",
   "metadata": {},
   "outputs": [],
   "source": [
    "# 4️⃣ For usage metrics, fill missing with mean values\n",
    "usage['sessions'] = usage['sessions'].fillna(usage['sessions'].mean())\n",
    "usage['avg_session_time'] = usage['avg_session_time'].fillna(usage['avg_session_time'].mean())\n",
    "usage['engagement_score'] = usage['engagement_score'].fillna(usage['engagement_score'].mean())"
   ]
  },
  {
   "cell_type": "code",
   "execution_count": 10,
   "id": "1c691952",
   "metadata": {},
   "outputs": [
    {
     "name": "stdout",
     "output_type": "stream",
     "text": [
      "Users missing values:\n",
      " user_id          0\n",
      "signup_date      0\n",
      "country          0\n",
      "device           0\n",
      "referral_code    0\n",
      "dtype: int64\n",
      "\n",
      "Campaigns missing values:\n",
      " campaign_id          0\n",
      "user_id              0\n",
      "experience_type      0\n",
      "status               0\n",
      "credits_used         0\n",
      "created_date         0\n",
      "published_date     243\n",
      "dtype: int64\n",
      "\n",
      "Usage metrics missing values:\n",
      " user_id               0\n",
      "week_start_date       0\n",
      "sessions              0\n",
      "avg_session_time      0\n",
      "engagement_score      0\n",
      "last_active_date    360\n",
      "dtype: int64\n"
     ]
    }
   ],
   "source": [
    "# --- Verify cleaning ---\n",
    "print(\"Users missing values:\\n\", users.isna().sum())\n",
    "print(\"\\nCampaigns missing values:\\n\", campaigns.isna().sum())\n",
    "print(\"\\nUsage metrics missing values:\\n\", usage.isna().sum())"
   ]
  },
  {
   "cell_type": "markdown",
   "id": "7c6e3416",
   "metadata": {},
   "source": [
    "### Data Understanding & Key Metrics"
   ]
  },
  {
   "cell_type": "code",
   "execution_count": 11,
   "id": "8892b41e",
   "metadata": {},
   "outputs": [
    {
     "name": "stdout",
     "output_type": "stream",
     "text": [
      "===== USER OVERVIEW =====\n",
      "Total users: 250\n",
      "India      106\n",
      "USA         37\n",
      "UAE         32\n",
      "Germany     28\n",
      "UK          25\n",
      "Name: country, dtype: int64\n",
      "\n",
      "Device distribution:\n",
      " Android    152\n",
      "iOS         57\n",
      "Web         32\n",
      "Unknown      9\n",
      "Name: device, dtype: int64\n"
     ]
    }
   ],
   "source": [
    "print(\"===== USER OVERVIEW =====\")\n",
    "print(\"Total users:\", users['user_id'].nunique())\n",
    "print(users['country'].value_counts().head(5))\n",
    "print(\"\\nDevice distribution:\\n\", users['device'].value_counts())"
   ]
  },
  {
   "cell_type": "code",
   "execution_count": 12,
   "id": "5cef6baf",
   "metadata": {},
   "outputs": [
    {
     "name": "stdout",
     "output_type": "stream",
     "text": [
      "\n",
      "===== CAMPAIGN OVERVIEW =====\n",
      "Total campaigns: 430\n",
      "Campaign status counts:\n",
      " draft        207\n",
      "published    187\n",
      "deleted       36\n",
      "Name: status, dtype: int64\n",
      "\n",
      "Experience type counts:\n",
      " 3D Spatial           51\n",
      "Prism Extended       50\n",
      "Prism Interactive    45\n",
      "Spatial Alpha        43\n",
      "Prism                42\n",
      "Name: experience_type, dtype: int64\n",
      "Average credits used: 1.25\n"
     ]
    }
   ],
   "source": [
    "print(\"\\n===== CAMPAIGN OVERVIEW =====\")\n",
    "print(\"Total campaigns:\", campaigns['campaign_id'].nunique())\n",
    "print(\"Campaign status counts:\\n\", campaigns['status'].value_counts())\n",
    "print(\"\\nExperience type counts:\\n\", campaigns['experience_type'].value_counts().head(5))\n",
    "print(\"Average credits used:\", round(campaigns['credits_used'].mean(), 2))"
   ]
  },
  {
   "cell_type": "code",
   "execution_count": 13,
   "id": "72f65cac",
   "metadata": {},
   "outputs": [
    {
     "name": "stdout",
     "output_type": "stream",
     "text": [
      "\n",
      "===== USAGE METRICS OVERVIEW =====\n",
      "Total records: 2031\n",
      "Unique users in usage data: 250\n",
      "Average sessions per week: 3.55\n",
      "Average engagement score: 28.16\n"
     ]
    }
   ],
   "source": [
    "print(\"\\n===== USAGE METRICS OVERVIEW =====\")\n",
    "print(\"Total records:\", len(usage))\n",
    "print(\"Unique users in usage data:\", usage['user_id'].nunique())\n",
    "print(\"Average sessions per week:\", round(usage['sessions'].mean(), 2))\n",
    "print(\"Average engagement score:\", round(usage['engagement_score'].mean(), 2))"
   ]
  },
  {
   "cell_type": "markdown",
   "id": "3dfb2266",
   "metadata": {},
   "source": [
    "### Join Datasets"
   ]
  },
  {
   "cell_type": "code",
   "execution_count": 14,
   "id": "8d508b33",
   "metadata": {},
   "outputs": [],
   "source": [
    "# Merge campaigns with users\n",
    "campaigns_users = campaigns.merge(users, on='user_id', how='left')\n",
    "\n",
    "# Merge usage metrics with user info (optional)\n",
    "usage_users = usage.merge(users, on='user_id', how='left')\n",
    "\n",
    "# Merge campaigns + usage if needed for engagement analysis\n",
    "campaign_usage = campaigns.merge(usage, on='user_id', how='left')\n"
   ]
  },
  {
   "cell_type": "markdown",
   "id": "857d0861",
   "metadata": {},
   "source": [
    "### Exploratory Analysis"
   ]
  },
  {
   "cell_type": "markdown",
   "id": "1706bc6e",
   "metadata": {},
   "source": [
    "#### 1 User Growth Trends"
   ]
  },
  {
   "cell_type": "code",
   "execution_count": 16,
   "id": "da3012e3",
   "metadata": {},
   "outputs": [
    {
     "data": {
      "text/plain": [
       "<Axes: title={'center': 'Users by Country'}, xlabel='signup_date'>"
      ]
     },
     "execution_count": 16,
     "metadata": {},
     "output_type": "execute_result"
    },
    {
     "data": {
      "image/png": "[encoded data removed]",
      "text/plain": [
       "<Figure size 640x480 with 1 Axes>"
      ]
     },
     "metadata": {},
     "output_type": "display_data"
    }
   ],
   "source": [
    "users.groupby('signup_date').size().plot(title=\"User Signups Over Time\")\n",
    "users['country'].value_counts().plot(kind='bar', title=\"Users by Country\")\n"
   ]
  },
  {
   "cell_type": "code",
   "execution_count": 17,
   "id": "4428a40c",
   "metadata": {},
   "outputs": [
    {
     "data": {
      "text/plain": [
       "<Axes: title={'center': 'Users by Device'}>"
      ]
     },
     "execution_count": 17,
     "metadata": {},
     "output_type": "execute_result"
    },
    {
     "data": {
      "image/png": "[encoded data removed]",
      "text/plain": [
       "<Figure size 640x480 with 1 Axes>"
      ]
     },
     "metadata": {},
     "output_type": "display_data"
    }
   ],
   "source": [
    "users['device'].value_counts().plot(kind='bar', title=\"Users by Device\")\n"
   ]
  },
  {
   "cell_type": "markdown",
   "id": "ed26c2ff",
   "metadata": {},
   "source": [
    "#### 2. Campaign Trends"
   ]
  },
  {
   "cell_type": "code",
   "execution_count": 18,
   "id": "67ee3fae",
   "metadata": {},
   "outputs": [
    {
     "data": {
      "text/plain": [
       "<Axes: title={'center': 'Experience Types'}, xlabel='created_date'>"
      ]
     },
     "execution_count": 18,
     "metadata": {},
     "output_type": "execute_result"
    },
    {
     "data": {
      "image/png": "[encoded data removed]",
      "text/plain": [
       "<Figure size 640x480 with 1 Axes>"
      ]
     },
     "metadata": {},
     "output_type": "display_data"
    }
   ],
   "source": [
    "campaigns.groupby('created_date').size().plot(title=\"Campaigns Created Over Time\")\n",
    "campaigns['experience_type'].value_counts().plot(kind='bar', title=\"Experience Types\")\n"
   ]
  },
  {
   "cell_type": "code",
   "execution_count": 19,
   "id": "11d75f38",
   "metadata": {},
   "outputs": [
    {
     "data": {
      "text/plain": [
       "<Axes: title={'center': 'Campaign Status Distribution'}, ylabel='status'>"
      ]
     },
     "execution_count": 19,
     "metadata": {},
     "output_type": "execute_result"
    },
    {
     "data": {
      "image/png": "[encoded data removed]",
      "text/plain": [
       "<Figure size 640x480 with 1 Axes>"
      ]
     },
     "metadata": {},
     "output_type": "display_data"
    }
   ],
   "source": [
    "campaigns['status'].value_counts().plot(kind='pie', title=\"Campaign Status Distribution\")\n"
   ]
  },
  {
   "cell_type": "markdown",
   "id": "b5f5ef2f",
   "metadata": {},
   "source": [
    "#### 3 Engagement Metrics"
   ]
  },
  {
   "cell_type": "code",
   "execution_count": 20,
   "id": "f5e762ef",
   "metadata": {},
   "outputs": [
    {
     "name": "stderr",
     "output_type": "stream",
     "text": [
      "C:\\Users\\LAKSHMAN ATMAKURI\\AppData\\Local\\Temp\\ipykernel_15452\\1072070265.py:1: FutureWarning: Indexing with multiple keys (implicitly converted to a tuple of keys) will be deprecated, use a list instead.\n",
      "  usage.groupby('week_start_date')['sessions','engagement_score'].mean().plot(title=\"Weekly Engagement Trends\")\n"
     ]
    },
    {
     "data": {
      "text/plain": [
       "<Axes: title={'center': 'Weekly Engagement Trends'}, xlabel='week_start_date'>"
      ]
     },
     "execution_count": 20,
     "metadata": {},
     "output_type": "execute_result"
    },
    {
     "data": {
      "image/png": "[encoded data removed]",
      "text/plain": [
       "<Figure size 640x480 with 1 Axes>"
      ]
     },
     "metadata": {},
     "output_type": "display_data"
    }
   ],
   "source": [
    "usage.groupby('week_start_date')['sessions','engagement_score'].mean().plot(title=\"Weekly Engagement Trends\")\n"
   ]
  },
  {
   "cell_type": "code",
   "execution_count": 23,
   "id": "21166208",
   "metadata": {},
   "outputs": [
    {
     "data": {
      "text/plain": [
       "<Axes: title={'center': 'Engagement by Device'}, xlabel='device'>"
      ]
     },
     "execution_count": 23,
     "metadata": {},
     "output_type": "execute_result"
    },
    {
     "data": {
      "image/png": "[encoded data removed]",
      "text/plain": [
       "<Figure size 640x480 with 1 Axes>"
      ]
     },
     "metadata": {},
     "output_type": "display_data"
    }
   ],
   "source": [
    "# Merge usage with users to get device info\n",
    "usage_users = usage.merge(users[['user_id','device']], on='user_id', how='left')\n",
    "\n",
    "# Now group by device\n",
    "usage_users.groupby('device')['engagement_score'].mean().plot(kind='bar', title=\"Engagement by Device\")\n"
   ]
  },
  {
   "cell_type": "code",
   "execution_count": null,
   "id": "5930834e",
   "metadata": {},
   "outputs": [],
   "source": []
  }
 ],
 "metadata": {
  "kernelspec": {
   "display_name": "Python 3 (ipykernel)",
   "language": "python",
   "name": "python3"
  },
  "language_info": {
   "codemirror_mode": {
    "name": "ipython",
    "version": 3
   },
   "file_extension": ".py",
   "mimetype": "text/x-python",
   "name": "python",
   "nbconvert_exporter": "python",
   "pygments_lexer": "ipython3",
   "version": "3.10.9"
  }
 },
 "nbformat": 4,
 "nbformat_minor": 5
}
