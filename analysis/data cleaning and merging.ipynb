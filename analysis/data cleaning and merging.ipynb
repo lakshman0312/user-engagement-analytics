{
 "cells": [
  {
   "cell_type": "markdown",
   "id": "15f0f73d",
   "metadata": {},
   "source": [
    "### Analysis & Code (from Jupyter Notebook)"
   ]
  },
  {
   "cell_type": "code",
   "execution_count": 1,
   "id": "620bdb48",
   "metadata": {},
   "outputs": [
    {
     "name": "stdout",
     "output_type": "stream",
     "text": [
      "Libraries imported successfully\n"
     ]
    }
   ],
   "source": [
    "import pandas as pd\n",
    "import numpy as np\n",
    "\n",
    "print(\"Libraries imported successfully\")\n"
   ]
  },
  {
   "cell_type": "code",
   "execution_count": 2,
   "id": "1d12b48b",
   "metadata": {},
   "outputs": [],
   "source": [
    "users = pd.read_csv(\"users.csv\")\n",
    "campaigns = pd.read_csv(\"campaigns.csv\")\n",
    "usage = pd.read_csv(\"usage_metrics.csv\")"
   ]
  },
  {
   "cell_type": "markdown",
   "id": "fda12afd",
   "metadata": {},
   "source": [
    "#### Check datatypes and missing values for each dataset\n"
   ]
  },
  {
   "cell_type": "code",
   "execution_count": 3,
   "id": "fe7b567e",
   "metadata": {},
   "outputs": [
    {
     "name": "stdout",
     "output_type": "stream",
     "text": [
      "=== USERS ===\n",
      "<class 'pandas.core.frame.DataFrame'>\n",
      "RangeIndex: 250 entries, 0 to 249\n",
      "Data columns (total 5 columns):\n",
      " #   Column         Non-Null Count  Dtype \n",
      "---  ------         --------------  ----- \n",
      " 0   user_id        250 non-null    object\n",
      " 1   signup_date    250 non-null    object\n",
      " 2   country        244 non-null    object\n",
      " 3   device         241 non-null    object\n",
      " 4   referral_code  232 non-null    object\n",
      "dtypes: object(5)\n",
      "memory usage: 9.9+ KB\n",
      "None\n"
     ]
    }
   ],
   "source": [
    "print(\"=== USERS ===\")\n",
    "print(users.info())"
   ]
  },
  {
   "cell_type": "code",
   "execution_count": 4,
   "id": "76cb0f79",
   "metadata": {},
   "outputs": [
    {
     "name": "stdout",
     "output_type": "stream",
     "text": [
      "\n",
      "=== CAMPAIGNS ===\n",
      "<class 'pandas.core.frame.DataFrame'>\n",
      "RangeIndex: 430 entries, 0 to 429\n",
      "Data columns (total 7 columns):\n",
      " #   Column           Non-Null Count  Dtype  \n",
      "---  ------           --------------  -----  \n",
      " 0   campaign_id      430 non-null    object \n",
      " 1   user_id          430 non-null    object \n",
      " 2   experience_type  415 non-null    object \n",
      " 3   status           430 non-null    object \n",
      " 4   credits_used     177 non-null    float64\n",
      " 5   created_date     430 non-null    object \n",
      " 6   published_date   187 non-null    object \n",
      "dtypes: float64(1), object(6)\n",
      "memory usage: 23.6+ KB\n",
      "None\n"
     ]
    }
   ],
   "source": [
    "print(\"\\n=== CAMPAIGNS ===\")\n",
    "print(campaigns.info())"
   ]
  },
  {
   "cell_type": "code",
   "execution_count": 5,
   "id": "4b1f09ff",
   "metadata": {},
   "outputs": [
    {
     "name": "stdout",
     "output_type": "stream",
     "text": [
      "\n",
      "=== USAGE METRICS ===\n",
      "<class 'pandas.core.frame.DataFrame'>\n",
      "RangeIndex: 2031 entries, 0 to 2030\n",
      "Data columns (total 6 columns):\n",
      " #   Column            Non-Null Count  Dtype  \n",
      "---  ------            --------------  -----  \n",
      " 0   user_id           2031 non-null   object \n",
      " 1   week_start_date   2031 non-null   object \n",
      " 2   sessions          1963 non-null   float64\n",
      " 3   avg_session_time  1951 non-null   float64\n",
      " 4   engagement_score  1850 non-null   float64\n",
      " 5   last_active_date  1671 non-null   object \n",
      "dtypes: float64(3), object(3)\n",
      "memory usage: 95.3+ KB\n",
      "None\n"
     ]
    }
   ],
   "source": [
    "print(\"\\n=== USAGE METRICS ===\")\n",
    "print(usage.info())"
   ]
  },
  {
   "cell_type": "markdown",
   "id": "d44c61be",
   "metadata": {},
   "source": [
    "#### Data cleaning and Preparation"
   ]
  },
  {
   "cell_type": "markdown",
   "id": "a62f58aa",
   "metadata": {},
   "source": [
    "Convert date columns\n"
   ]
  },
  {
   "cell_type": "code",
   "execution_count": 6,
   "id": "02a09768",
   "metadata": {},
   "outputs": [],
   "source": [
    "users['signup_date'] = pd.to_datetime(users['signup_date'])\n",
    "campaigns['created_date'] = pd.to_datetime(campaigns['created_date'])\n",
    "campaigns['published_date'] = pd.to_datetime(campaigns['published_date'])\n",
    "usage['week_start_date'] = pd.to_datetime(usage['week_start_date'])\n",
    "usage['last_active_date'] = pd.to_datetime(usage['last_active_date'])"
   ]
  },
  {
   "cell_type": "markdown",
   "id": "64c6ba00",
   "metadata": {},
   "source": [
    "Fill missing categorical values\n"
   ]
  },
  {
   "cell_type": "code",
   "execution_count": 7,
   "id": "cd7c590e",
   "metadata": {},
   "outputs": [],
   "source": [
    "users['country'] = users['country'].fillna('Unknown')\n",
    "users['device'] = users['device'].fillna('Unknown')\n",
    "users['referral_code'] = users['referral_code'].fillna('No')\n",
    "campaigns['experience_type'] = campaigns['experience_type'].fillna('Unknown')"
   ]
  },
  {
   "cell_type": "markdown",
   "id": "4cd3ad41",
   "metadata": {},
   "source": [
    "Fill missing numeric values"
   ]
  },
  {
   "cell_type": "code",
   "execution_count": 8,
   "id": "e7984130",
   "metadata": {},
   "outputs": [],
   "source": [
    "campaigns['credits_used'] = campaigns['credits_used'].fillna(0)\n",
    "usage['sessions'] = usage['sessions'].fillna(usage['sessions'].mean())\n",
    "usage['avg_session_time'] = usage['avg_session_time'].fillna(usage['avg_session_time'].mean())\n",
    "usage['engagement_score'] = usage['engagement_score'].fillna(usage['engagement_score'].mean())"
   ]
  },
  {
   "cell_type": "markdown",
   "id": "7a398903",
   "metadata": {},
   "source": [
    "#### DATA UNDERSTANDING - USERS"
   ]
  },
  {
   "cell_type": "code",
   "execution_count": 9,
   "id": "da867c7a",
   "metadata": {},
   "outputs": [
    {
     "name": "stdout",
     "output_type": "stream",
     "text": [
      "Total users: 250\n",
      "\n",
      "Users by Country:\n"
     ]
    },
    {
     "data": {
      "text/plain": [
       "India      106\n",
       "USA         37\n",
       "UAE         32\n",
       "Germany     28\n",
       "UK          25\n",
       "Brazil      16\n",
       "Unknown      6\n",
       "Name: country, dtype: int64"
      ]
     },
     "metadata": {},
     "output_type": "display_data"
    },
    {
     "name": "stdout",
     "output_type": "stream",
     "text": [
      "\n",
      "Users by Device:\n"
     ]
    },
    {
     "data": {
      "text/plain": [
       "Android    152\n",
       "iOS         57\n",
       "Web         32\n",
       "Unknown      9\n",
       "Name: device, dtype: int64"
      ]
     },
     "metadata": {},
     "output_type": "display_data"
    }
   ],
   "source": [
    "# Total users\n",
    "print(\"Total users:\", users['user_id'].nunique())\n",
    "\n",
    "# Users by country\n",
    "print(\"\\nUsers by Country:\")\n",
    "display(users['country'].value_counts())\n",
    "\n",
    "# Users by device\n",
    "print(\"\\nUsers by Device:\")\n",
    "display(users['device'].value_counts())\n"
   ]
  },
  {
   "cell_type": "markdown",
   "id": "1b986e11",
   "metadata": {},
   "source": [
    "#### DATA UNDERSTANDING - Campigns"
   ]
  },
  {
   "cell_type": "code",
   "execution_count": 10,
   "id": "b70bc1c7",
   "metadata": {},
   "outputs": [
    {
     "name": "stdout",
     "output_type": "stream",
     "text": [
      "Total campaigns: 430\n",
      "\n",
      "Campaign Status Counts:\n"
     ]
    },
    {
     "data": {
      "text/plain": [
       "draft        207\n",
       "published    187\n",
       "deleted       36\n",
       "Name: status, dtype: int64"
      ]
     },
     "metadata": {},
     "output_type": "display_data"
    },
    {
     "name": "stdout",
     "output_type": "stream",
     "text": [
      "\n",
      "Experience Type Counts (Top 5):\n"
     ]
    },
    {
     "data": {
      "text/plain": [
       "3D Spatial           51\n",
       "Prism Extended       50\n",
       "Prism Interactive    45\n",
       "Spatial Alpha        43\n",
       "Prism                42\n",
       "Name: experience_type, dtype: int64"
      ]
     },
     "metadata": {},
     "output_type": "display_data"
    },
    {
     "name": "stdout",
     "output_type": "stream",
     "text": [
      "\n",
      "Average Credits Used: 1.25\n"
     ]
    }
   ],
   "source": [
    "# Total campaigns\n",
    "print(\"Total campaigns:\", campaigns['campaign_id'].nunique())\n",
    "\n",
    "# Campaign status\n",
    "print(\"\\nCampaign Status Counts:\")\n",
    "display(campaigns['status'].value_counts())\n",
    "\n",
    "# Experience types\n",
    "print(\"\\nExperience Type Counts (Top 5):\")\n",
    "display(campaigns['experience_type'].value_counts().head(5))\n",
    "\n",
    "# Average credits used\n",
    "print(\"\\nAverage Credits Used:\", round(campaigns['credits_used'].mean(),2))\n"
   ]
  },
  {
   "cell_type": "markdown",
   "id": "43771c64",
   "metadata": {},
   "source": [
    "#### DATA UNDERSTANDING - Usage metrics"
   ]
  },
  {
   "cell_type": "code",
   "execution_count": 11,
   "id": "2e1d146d",
   "metadata": {},
   "outputs": [
    {
     "name": "stdout",
     "output_type": "stream",
     "text": [
      "Total records: 2031\n",
      "Unique users in usage data: 250\n",
      "Average sessions per week: 3.55\n",
      "Average engagement score: 28.16\n"
     ]
    }
   ],
   "source": [
    "# Total records\n",
    "print(\"Total records:\", len(usage))\n",
    "\n",
    "# Unique users in usage data\n",
    "print(\"Unique users in usage data:\", usage['user_id'].nunique())\n",
    "\n",
    "# Average sessions and engagement\n",
    "print(\"Average sessions per week:\", round(usage['sessions'].mean(),2))\n",
    "print(\"Average engagement score:\", round(usage['engagement_score'].mean(),2))\n",
    "\n"
   ]
  },
  {
   "cell_type": "markdown",
   "id": "56b5a7d8",
   "metadata": {},
   "source": [
    "#### Merge data sets"
   ]
  },
  {
   "cell_type": "code",
   "execution_count": 12,
   "id": "d5134d4f",
   "metadata": {},
   "outputs": [
    {
     "name": "stdout",
     "output_type": "stream",
     "text": [
      "Merged Usage + Users Sample:\n"
     ]
    },
    {
     "data": {
      "text/html": [
       "<div>\n",
       "<style scoped>\n",
       "    .dataframe tbody tr th:only-of-type {\n",
       "        vertical-align: middle;\n",
       "    }\n",
       "\n",
       "    .dataframe tbody tr th {\n",
       "        vertical-align: top;\n",
       "    }\n",
       "\n",
       "    .dataframe thead th {\n",
       "        text-align: right;\n",
       "    }\n",
       "</style>\n",
       "<table border=\"1\" class=\"dataframe\">\n",
       "  <thead>\n",
       "    <tr style=\"text-align: right;\">\n",
       "      <th></th>\n",
       "      <th>user_id</th>\n",
       "      <th>week_start_date</th>\n",
       "      <th>sessions</th>\n",
       "      <th>avg_session_time</th>\n",
       "      <th>engagement_score</th>\n",
       "      <th>last_active_date</th>\n",
       "      <th>signup_date</th>\n",
       "      <th>country</th>\n",
       "      <th>device</th>\n",
       "      <th>referral_code</th>\n",
       "    </tr>\n",
       "  </thead>\n",
       "  <tbody>\n",
       "    <tr>\n",
       "      <th>0</th>\n",
       "      <td>U0001</td>\n",
       "      <td>2025-09-08</td>\n",
       "      <td>6.0</td>\n",
       "      <td>11.62</td>\n",
       "      <td>69.72</td>\n",
       "      <td>2025-09-12</td>\n",
       "      <td>2025-09-12</td>\n",
       "      <td>Germany</td>\n",
       "      <td>iOS</td>\n",
       "      <td>No</td>\n",
       "    </tr>\n",
       "    <tr>\n",
       "      <th>1</th>\n",
       "      <td>U0001</td>\n",
       "      <td>2025-09-15</td>\n",
       "      <td>5.0</td>\n",
       "      <td>4.88</td>\n",
       "      <td>24.40</td>\n",
       "      <td>2025-09-21</td>\n",
       "      <td>2025-09-12</td>\n",
       "      <td>Germany</td>\n",
       "      <td>iOS</td>\n",
       "      <td>No</td>\n",
       "    </tr>\n",
       "  </tbody>\n",
       "</table>\n",
       "</div>"
      ],
      "text/plain": [
       "  user_id week_start_date  sessions  avg_session_time  engagement_score  \\\n",
       "0   U0001      2025-09-08       6.0             11.62             69.72   \n",
       "1   U0001      2025-09-15       5.0              4.88             24.40   \n",
       "\n",
       "  last_active_date signup_date  country device referral_code  \n",
       "0       2025-09-12  2025-09-12  Germany    iOS            No  \n",
       "1       2025-09-21  2025-09-12  Germany    iOS            No  "
      ]
     },
     "metadata": {},
     "output_type": "display_data"
    },
    {
     "name": "stdout",
     "output_type": "stream",
     "text": [
      "Merged Campaigns + Users Sample:\n"
     ]
    },
    {
     "data": {
      "text/html": [
       "<div>\n",
       "<style scoped>\n",
       "    .dataframe tbody tr th:only-of-type {\n",
       "        vertical-align: middle;\n",
       "    }\n",
       "\n",
       "    .dataframe tbody tr th {\n",
       "        vertical-align: top;\n",
       "    }\n",
       "\n",
       "    .dataframe thead th {\n",
       "        text-align: right;\n",
       "    }\n",
       "</style>\n",
       "<table border=\"1\" class=\"dataframe\">\n",
       "  <thead>\n",
       "    <tr style=\"text-align: right;\">\n",
       "      <th></th>\n",
       "      <th>campaign_id</th>\n",
       "      <th>user_id</th>\n",
       "      <th>experience_type</th>\n",
       "      <th>status</th>\n",
       "      <th>credits_used</th>\n",
       "      <th>created_date</th>\n",
       "      <th>published_date</th>\n",
       "      <th>signup_date</th>\n",
       "      <th>country</th>\n",
       "      <th>device</th>\n",
       "      <th>referral_code</th>\n",
       "    </tr>\n",
       "  </thead>\n",
       "  <tbody>\n",
       "    <tr>\n",
       "      <th>0</th>\n",
       "      <td>C00001</td>\n",
       "      <td>U0002</td>\n",
       "      <td>Unknown</td>\n",
       "      <td>draft</td>\n",
       "      <td>0.0</td>\n",
       "      <td>2025-09-17</td>\n",
       "      <td>NaT</td>\n",
       "      <td>2025-08-23</td>\n",
       "      <td>Germany</td>\n",
       "      <td>iOS</td>\n",
       "      <td>No</td>\n",
       "    </tr>\n",
       "    <tr>\n",
       "      <th>1</th>\n",
       "      <td>C00002</td>\n",
       "      <td>U0002</td>\n",
       "      <td>Unknown</td>\n",
       "      <td>published</td>\n",
       "      <td>4.0</td>\n",
       "      <td>2025-09-07</td>\n",
       "      <td>2025-09-12</td>\n",
       "      <td>2025-08-23</td>\n",
       "      <td>Germany</td>\n",
       "      <td>iOS</td>\n",
       "      <td>No</td>\n",
       "    </tr>\n",
       "  </tbody>\n",
       "</table>\n",
       "</div>"
      ],
      "text/plain": [
       "  campaign_id user_id experience_type     status  credits_used created_date  \\\n",
       "0      C00001   U0002         Unknown      draft           0.0   2025-09-17   \n",
       "1      C00002   U0002         Unknown  published           4.0   2025-09-07   \n",
       "\n",
       "  published_date signup_date  country device referral_code  \n",
       "0            NaT  2025-08-23  Germany    iOS            No  \n",
       "1     2025-09-12  2025-08-23  Germany    iOS            No  "
      ]
     },
     "metadata": {},
     "output_type": "display_data"
    },
    {
     "name": "stdout",
     "output_type": "stream",
     "text": [
      "Merged Campaigns + Usage Sample:\n"
     ]
    },
    {
     "data": {
      "text/html": [
       "<div>\n",
       "<style scoped>\n",
       "    .dataframe tbody tr th:only-of-type {\n",
       "        vertical-align: middle;\n",
       "    }\n",
       "\n",
       "    .dataframe tbody tr th {\n",
       "        vertical-align: top;\n",
       "    }\n",
       "\n",
       "    .dataframe thead th {\n",
       "        text-align: right;\n",
       "    }\n",
       "</style>\n",
       "<table border=\"1\" class=\"dataframe\">\n",
       "  <thead>\n",
       "    <tr style=\"text-align: right;\">\n",
       "      <th></th>\n",
       "      <th>campaign_id</th>\n",
       "      <th>user_id</th>\n",
       "      <th>experience_type</th>\n",
       "      <th>status</th>\n",
       "      <th>credits_used</th>\n",
       "      <th>created_date</th>\n",
       "      <th>published_date</th>\n",
       "      <th>week_start_date</th>\n",
       "      <th>sessions</th>\n",
       "      <th>avg_session_time</th>\n",
       "      <th>engagement_score</th>\n",
       "      <th>last_active_date</th>\n",
       "    </tr>\n",
       "  </thead>\n",
       "  <tbody>\n",
       "    <tr>\n",
       "      <th>0</th>\n",
       "      <td>C00001</td>\n",
       "      <td>U0002</td>\n",
       "      <td>Unknown</td>\n",
       "      <td>draft</td>\n",
       "      <td>0.0</td>\n",
       "      <td>2025-09-17</td>\n",
       "      <td>NaT</td>\n",
       "      <td>2025-08-18</td>\n",
       "      <td>0.0</td>\n",
       "      <td>6.81</td>\n",
       "      <td>0.00</td>\n",
       "      <td>NaT</td>\n",
       "    </tr>\n",
       "    <tr>\n",
       "      <th>1</th>\n",
       "      <td>C00001</td>\n",
       "      <td>U0002</td>\n",
       "      <td>Unknown</td>\n",
       "      <td>draft</td>\n",
       "      <td>0.0</td>\n",
       "      <td>2025-09-17</td>\n",
       "      <td>NaT</td>\n",
       "      <td>2025-08-25</td>\n",
       "      <td>3.0</td>\n",
       "      <td>2.53</td>\n",
       "      <td>7.59</td>\n",
       "      <td>2025-08-31</td>\n",
       "    </tr>\n",
       "  </tbody>\n",
       "</table>\n",
       "</div>"
      ],
      "text/plain": [
       "  campaign_id user_id experience_type status  credits_used created_date  \\\n",
       "0      C00001   U0002         Unknown  draft           0.0   2025-09-17   \n",
       "1      C00001   U0002         Unknown  draft           0.0   2025-09-17   \n",
       "\n",
       "  published_date week_start_date  sessions  avg_session_time  \\\n",
       "0            NaT      2025-08-18       0.0              6.81   \n",
       "1            NaT      2025-08-25       3.0              2.53   \n",
       "\n",
       "   engagement_score last_active_date  \n",
       "0              0.00              NaT  \n",
       "1              7.59       2025-08-31  "
      ]
     },
     "metadata": {},
     "output_type": "display_data"
    }
   ],
   "source": [
    "# Merge usage with users for device/country/referral info\n",
    "usage_users = usage.merge(users, on='user_id', how='left')\n",
    "print(\"Merged Usage + Users Sample:\")\n",
    "display(usage_users.head(2))\n",
    "\n",
    "# Merge campaigns with users\n",
    "campaigns_users = campaigns.merge(users, on='user_id', how='left')\n",
    "print(\"Merged Campaigns + Users Sample:\")\n",
    "display(campaigns_users.head(2))\n",
    "\n",
    "# Merge campaigns + usage for engagement analysis\n",
    "campaign_usage = campaigns.merge(usage, on='user_id', how='left')\n",
    "\n",
    "print(\"Merged Campaigns + Usage Sample:\")\n",
    "display(campaign_usage.head(2))\n"
   ]
  },
  {
   "cell_type": "markdown",
   "id": "6dae3d6e",
   "metadata": {},
   "source": [
    "#### Handle Missing Values After Merge"
   ]
  },
  {
   "cell_type": "code",
   "execution_count": 13,
   "id": "6a1bd5b7",
   "metadata": {},
   "outputs": [
    {
     "name": "stdout",
     "output_type": "stream",
     "text": [
      "=== Missing in usage_users ===\n"
     ]
    },
    {
     "data": {
      "text/plain": [
       "user_id               0\n",
       "week_start_date       0\n",
       "sessions              0\n",
       "avg_session_time      0\n",
       "engagement_score      0\n",
       "last_active_date    360\n",
       "signup_date           0\n",
       "country               0\n",
       "device                0\n",
       "referral_code         0\n",
       "dtype: int64"
      ]
     },
     "metadata": {},
     "output_type": "display_data"
    },
    {
     "name": "stdout",
     "output_type": "stream",
     "text": [
      "\n",
      "=== Missing in campaigns_users ===\n"
     ]
    },
    {
     "data": {
      "text/plain": [
       "campaign_id          0\n",
       "user_id              0\n",
       "experience_type      0\n",
       "status               0\n",
       "credits_used         0\n",
       "created_date         0\n",
       "published_date     243\n",
       "signup_date          0\n",
       "country              0\n",
       "device               0\n",
       "referral_code        0\n",
       "dtype: int64"
      ]
     },
     "metadata": {},
     "output_type": "display_data"
    },
    {
     "name": "stdout",
     "output_type": "stream",
     "text": [
      "\n",
      "=== Missing in campaign_usage ===\n"
     ]
    },
    {
     "data": {
      "text/plain": [
       "campaign_id            0\n",
       "user_id                0\n",
       "experience_type        0\n",
       "status                 0\n",
       "credits_used           0\n",
       "created_date           0\n",
       "published_date      1993\n",
       "week_start_date        0\n",
       "sessions               0\n",
       "avg_session_time       0\n",
       "engagement_score       0\n",
       "last_active_date     646\n",
       "dtype: int64"
      ]
     },
     "metadata": {},
     "output_type": "display_data"
    }
   ],
   "source": [
    "# Check missing values in merged datasets\n",
    "print(\"=== Missing in usage_users ===\")\n",
    "display(usage_users.isna().sum())\n",
    "\n",
    "print(\"\\n=== Missing in campaigns_users ===\")\n",
    "display(campaigns_users.isna().sum())\n",
    "\n",
    "print(\"\\n=== Missing in campaign_usage ===\")\n",
    "display(campaign_usage.isna().sum())\n"
   ]
  },
  {
   "cell_type": "code",
   "execution_count": 14,
   "id": "3aa5cb62",
   "metadata": {},
   "outputs": [],
   "source": [
    "# For usage users\n",
    "usage_users['last_active_date'] = usage_users['last_active_date'].fillna(usage_users['signup_date'])\n"
   ]
  },
  {
   "cell_type": "code",
   "execution_count": 15,
   "id": "7edf1b75",
   "metadata": {},
   "outputs": [],
   "source": [
    "# for campaigns_users\n",
    "campaigns_users['published_status'] = campaigns_users['published_date'].apply(\n",
    "    lambda x: 'Published' if pd.notnull(x) else 'Not Published'\n",
    ")\n"
   ]
  },
  {
   "cell_type": "code",
   "execution_count": 16,
   "id": "e144c98b",
   "metadata": {},
   "outputs": [],
   "source": [
    "# for campaign usage\n",
    "campaign_usage = campaign_usage.merge(users[['user_id','signup_date']], on='user_id', how='left')\n",
    "\n",
    "campaign_usage['published_status'] = campaign_usage['published_date'].apply(\n",
    "    lambda x: 'Published' if pd.notnull(x) else 'Not Published'\n",
    ")\n",
    "campaign_usage['last_active_date'] = campaign_usage['last_active_date'].fillna(campaign_usage['signup_date'])\n"
   ]
  },
  {
   "cell_type": "markdown",
   "id": "a14c41d9",
   "metadata": {},
   "source": [
    "#### EXPORT CLEANED & MERGED DATA FOR POWER BI"
   ]
  },
  {
   "cell_type": "code",
   "execution_count": 17,
   "id": "6cd8c339",
   "metadata": {},
   "outputs": [
    {
     "name": "stdout",
     "output_type": "stream",
     "text": [
      " Cleaned and merged datasets exported for Power BI visualization\n"
     ]
    }
   ],
   "source": [
    "users.to_csv(\"users_clean.csv\", index=False)\n",
    "campaigns_users.to_csv(\"campaigns_users_clean.csv\", index=False)\n",
    "usage_users.to_csv(\"usage_users_clean.csv\", index=False)\n",
    "campaign_usage.to_csv(\"campaign_usage_clean.csv\", index=False)\n",
    "\n",
    "print(\" Cleaned and merged datasets exported for Power BI visualization\")\n"
   ]
  },
  {
   "cell_type": "markdown",
   "id": "413d4a42",
   "metadata": {},
   "source": [
    "### Visualizations (from Power BI)"
   ]
  }
 ],
 "metadata": {
  "kernelspec": {
   "display_name": "Python 3 (ipykernel)",
   "language": "python",
   "name": "python3"
  },
  "language_info": {
   "codemirror_mode": {
    "name": "ipython",
    "version": 3
   },
   "file_extension": ".py",
   "mimetype": "text/x-python",
   "name": "python",
   "nbconvert_exporter": "python",
   "pygments_lexer": "ipython3",
   "version": "3.10.9"
  }
 },
 "nbformat": 4,
 "nbformat_minor": 5
}
